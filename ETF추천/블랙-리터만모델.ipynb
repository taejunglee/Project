{
 "cells": [
  {
   "cell_type": "code",
   "execution_count": null,
   "id": "439940c7-8cd0-4537-b386-b600f9fea73f",
   "metadata": {},
   "outputs": [],
   "source": []
  },
  {
   "cell_type": "code",
   "execution_count": 1,
   "id": "5e5db498-0b33-4b9c-a13b-d4614b8990c9",
   "metadata": {},
   "outputs": [],
   "source": [
    "%matplotlib inline\n",
    "import matplotlib.pylab as plt\n",
    "plt.rcParams[\"figure.figsize\"] = (10, 9)\n",
    "import scipy.optimize\n",
    "import pandas as pd \n",
    "import numpy as np\n",
    "from numpy.linalg import inv"
   ]
  },
  {
   "cell_type": "code",
   "execution_count": 2,
   "id": "9e0c6316-5ffb-4f4b-b3b6-44a76fe184b1",
   "metadata": {},
   "outputs": [],
   "source": [
    "# Calculates portfolio mean return\n",
    "def get_mean(W, R):\n",
    "    return sum(R * W)\n",
    "\n",
    "# Calculates portfolio variance of returns\n",
    "def get_var(W, C):\n",
    "    return np.dot(np.dot(W, C), W)\n",
    "    \n",
    "# 포트폴리오 수익률 평균 및 분산\n",
    "def get_mean_var(W, R, C):\n",
    "    return sum(R * W), np.dot(np.dot(W, C), W)"
   ]
  },
  {
   "cell_type": "code",
   "execution_count": 3,
   "id": "4aff39c5-6fe6-4b0c-a65c-c22672ddcfdd",
   "metadata": {},
   "outputs": [],
   "source": [
    "# 무위험수익률, 수익률,공분산으로 평균-분산 프런티어 계산\n",
    "def solveFrontier(R, C, rf):\n",
    "    def fitness(W, R, C, r):\n",
    "        # 주어진 수익률에서 분산을 최소로 하는 비중 계산\n",
    "        mean = sum(R * W)\n",
    "        var = np.dot(np.dot(W, C), W)\n",
    "        # 최적화 제약조건 페널티\n",
    "        penalty = 100 * abs(mean - r)             \n",
    "        return var + penalty\n",
    "\n",
    "    frontier_mean, frontier_var = [], []\n",
    "    n = len(R)  # 투자자산 갯수\n",
    "    # 수익률 최저~최대 사이를 반복한다\n",
    "    for r in np.linspace(min(R), max(R), num=20):  # Iterate through the range of returns on Y axis\n",
    "        # 최적화 함수에 전달할 초기값으로 동일비중으로 시작한다\n",
    "        W = np.ones([n]) / n \n",
    "        # 최적화 함수에 전달할 제약조건을 미리 준비한다\n",
    "        b_ = [(0, 1) for i in range(n)]\n",
    "        c_ = ({'type': 'eq', 'fun': lambda W: sum(W) - 1.})\n",
    "        # 최적화 함수 minimize()은 최적화할 함수와 최적화를 시작할 초깃값을 인수로 받는다. \n",
    "        # fitness가 최적화할 함수이다.\n",
    "        optimized = scipy.optimize.minimize(fitness, W, (R, C, r), method='SLSQP', constraints=c_, bounds=b_)\n",
    "        if not optimized.success:\n",
    "            raise BaseException(optimized.message)\n",
    "        # add point to the efficient frontier [x,y] = [optimized.x, r]\n",
    "        # 효율적 프런티어에 포트폴리오 하나를 추가\n",
    "        frontier_mean.append(r)\n",
    "        frontier_var.append(get_var(optimized.x, C))\n",
    "    return np.array(frontier_mean), np.array(frontier_var)"
   ]
  },
  {
   "cell_type": "code",
   "execution_count": 4,
   "id": "3c124590-7a85-4712-8a37-a99e1f76c262",
   "metadata": {},
   "outputs": [],
   "source": [
    "# 무위험수익률, 수익률,공분산으로\n",
    "# 샤프비율을 최대로 하는 접점포트폴리오 비중 계산 \n",
    "def solveWeights(R, C, rf):\n",
    "    def fitness(W, R, C, rf):\n",
    "        mean, var = get_mean_var(W, R, C)  # calculate mean/variance of the portfolio\n",
    "        util = (mean - rf) / np.sqrt(var)  # utility = Sharpe ratio\n",
    "        return 1 / util  # maximize the utility, minimize its inverse value\n",
    "    n = len(R)\n",
    "    W = np.ones([n]) / n  # start optimization with equal weights\n",
    "    b_ = [(0., 1.) for i in range(n)]  # weights for boundaries between 0%..100%. No leverage, no shorting\n",
    "    c_ = ({'type': 'eq', 'fun': lambda W: sum(W) - 1.})  # Sum of weights must be 100%\n",
    "    optimized = scipy.optimize.minimize(fitness, W, (R, C, rf), method='SLSQP', constraints=c_, bounds=b_)\n",
    "    if not optimized.success: \n",
    "      raise BaseException(optimized.message)\n",
    "    return optimized.x"
   ]
  },
  {
   "cell_type": "code",
   "execution_count": 5,
   "id": "36481804-19f2-4368-80d8-d63c9bdb6ac7",
   "metadata": {},
   "outputs": [],
   "source": [
    "# 여러 개의 값을 한 번에 돌려주기 위한 클래스, \n",
    "# 즉 여러 개의 물건을 한번에 옮기기 위한 상자로 생각하면 된다\n",
    "class Result:\n",
    "    def __init__(self, W, tan_mean, tan_var, front_mean, front_var):\n",
    "        self.W=W\n",
    "        self.tan_mean=tan_mean\n",
    "        self.tan_var=tan_var\n",
    "        self.front_mean=front_mean\n",
    "        self.front_var=front_var\n",
    "\n",
    "# 효율적 포트폴리오 최적화        \n",
    "def optimize_frontier(R, C, rf):\n",
    "    W = solveWeights(R, C, rf)\n",
    "    tan_mean, tan_var = get_mean_var(W, R, C)  # calculate tangency portfolio\n",
    "    front_mean, front_var = solveFrontier(R, C, rf)  # calculate efficient frontier\n",
    "    # Weights, Tangency portfolio asset means and variances, Efficient frontier means and variances\n",
    "    return Result(W, tan_mean, tan_var, front_mean, front_var)\n",
    "\n",
    "def display_assets(names, R, C, color='black'):\n",
    "    n = len(names)\n",
    "    plt.scatter([C[i, i] ** .5 for i in range(n)], R, marker='x', color=color), plt.grid(True)  # draw assets\n",
    "    for i in range(n): \n",
    "        plt.text(C[i, i] ** .5, R[i], '  %s' % names[i], verticalalignment='center', color=color) # draw labels\n",
    "\n",
    "def display_frontier(result, label=None, color='black'):\n",
    "    plt.text(result.tan_var ** .5, result.tan_mean, '   tangent', verticalalignment='center', color=color)\n",
    "    plt.scatter(result.tan_var ** .5, result.tan_mean, marker='o', color=color), plt.grid(True)\n",
    "    plt.plot(result.front_var ** .5, result.front_mean, label=label, color=color), plt.grid(True)  # draw efficient frontier"
   ]
  },
  {
   "cell_type": "code",
   "execution_count": 6,
   "id": "6966fabe-6c27-4557-857a-ee56d1741e76",
   "metadata": {},
   "outputs": [
    {
     "data": {
      "text/html": [
       "<div>\n",
       "<style scoped>\n",
       "    .dataframe tbody tr th:only-of-type {\n",
       "        vertical-align: middle;\n",
       "    }\n",
       "\n",
       "    .dataframe tbody tr th {\n",
       "        vertical-align: top;\n",
       "    }\n",
       "\n",
       "    .dataframe thead th {\n",
       "        text-align: right;\n",
       "    }\n",
       "</style>\n",
       "<table border=\"1\" class=\"dataframe\">\n",
       "  <thead>\n",
       "    <tr style=\"text-align: right;\">\n",
       "      <th></th>\n",
       "      <th>rdate</th>\n",
       "      <th>name</th>\n",
       "      <th>ticker</th>\n",
       "      <th>close</th>\n",
       "      <th>volume</th>\n",
       "      <th>market_cap</th>\n",
       "      <th>segment</th>\n",
       "    </tr>\n",
       "  </thead>\n",
       "  <tbody>\n",
       "    <tr>\n",
       "      <th>0</th>\n",
       "      <td>2017-11-02</td>\n",
       "      <td>ProShares K-1 Free Crude Oil Strategy ETF</td>\n",
       "      <td>OILK</td>\n",
       "      <td>20.99</td>\n",
       "      <td>1250</td>\n",
       "      <td>74258623.0</td>\n",
       "      <td>Commodities: Energy Crude Oil</td>\n",
       "    </tr>\n",
       "    <tr>\n",
       "      <th>1</th>\n",
       "      <td>2017-11-03</td>\n",
       "      <td>ProShares K-1 Free Crude Oil Strategy ETF</td>\n",
       "      <td>OILK</td>\n",
       "      <td>21.32</td>\n",
       "      <td>3680</td>\n",
       "      <td>74258623.0</td>\n",
       "      <td>Commodities: Energy Crude Oil</td>\n",
       "    </tr>\n",
       "    <tr>\n",
       "      <th>2</th>\n",
       "      <td>2017-11-06</td>\n",
       "      <td>ProShares K-1 Free Crude Oil Strategy ETF</td>\n",
       "      <td>OILK</td>\n",
       "      <td>21.98</td>\n",
       "      <td>7450</td>\n",
       "      <td>74258623.0</td>\n",
       "      <td>Commodities: Energy Crude Oil</td>\n",
       "    </tr>\n",
       "    <tr>\n",
       "      <th>3</th>\n",
       "      <td>2017-11-07</td>\n",
       "      <td>ProShares K-1 Free Crude Oil Strategy ETF</td>\n",
       "      <td>OILK</td>\n",
       "      <td>21.92</td>\n",
       "      <td>5170</td>\n",
       "      <td>74258623.0</td>\n",
       "      <td>Commodities: Energy Crude Oil</td>\n",
       "    </tr>\n",
       "    <tr>\n",
       "      <th>4</th>\n",
       "      <td>2017-11-08</td>\n",
       "      <td>ProShares K-1 Free Crude Oil Strategy ETF</td>\n",
       "      <td>OILK</td>\n",
       "      <td>21.79</td>\n",
       "      <td>20010</td>\n",
       "      <td>74258623.0</td>\n",
       "      <td>Commodities: Energy Crude Oil</td>\n",
       "    </tr>\n",
       "  </tbody>\n",
       "</table>\n",
       "</div>"
      ],
      "text/plain": [
       "        rdate                                       name ticker  close  \\\n",
       "0  2017-11-02  ProShares K-1 Free Crude Oil Strategy ETF   OILK  20.99   \n",
       "1  2017-11-03  ProShares K-1 Free Crude Oil Strategy ETF   OILK  21.32   \n",
       "2  2017-11-06  ProShares K-1 Free Crude Oil Strategy ETF   OILK  21.98   \n",
       "3  2017-11-07  ProShares K-1 Free Crude Oil Strategy ETF   OILK  21.92   \n",
       "4  2017-11-08  ProShares K-1 Free Crude Oil Strategy ETF   OILK  21.79   \n",
       "\n",
       "   volume  market_cap                        segment  \n",
       "0    1250  74258623.0  Commodities: Energy Crude Oil  \n",
       "1    3680  74258623.0  Commodities: Energy Crude Oil  \n",
       "2    7450  74258623.0  Commodities: Energy Crude Oil  \n",
       "3    5170  74258623.0  Commodities: Energy Crude Oil  \n",
       "4   20010  74258623.0  Commodities: Energy Crude Oil  "
      ]
     },
     "execution_count": 6,
     "metadata": {},
     "output_type": "execute_result"
    }
   ],
   "source": [
    "df= pd.read_csv(\"미국ETF_9개.CSV\");df.head()"
   ]
  },
  {
   "cell_type": "code",
   "execution_count": 7,
   "id": "f0437d1a-6733-4ab5-ab4f-b8b7de0eb173",
   "metadata": {},
   "outputs": [],
   "source": [
    "# symbols = ['OILK', 'BBCA', 'BBEU', 'SPHB', 'JAGG', 'BBJP', 'ARKK', 'PALL', 'QQQ']\n",
    "# cap = {'OILK': 74258623, 'BBCA': 5659077206, 'BBEU': 8671311087, 'SPHB': 1889317500\n",
    "# , 'JAGG': 1124737008,'BBJP': 8764382985\n",
    "# , 'ARKK': 22393215000\n",
    "# , 'PALL': 528330000\n",
    "# , 'QQQ': 1.43E+11\n",
    "# }"
   ]
  },
  {
   "cell_type": "code",
   "execution_count": 25,
   "id": "9fb834ee-06b7-4f6f-9f32-5c0061fea99f",
   "metadata": {},
   "outputs": [],
   "source": [
    "# 311 / 221 / 131 / 122 / 113\n",
    "#[74258623, 5659077206, 8671311087, 889317500 ,1124737008, 8764382985, 22393215000, 528330000,1.43E+11]"
   ]
  },
  {
   "cell_type": "code",
   "execution_count": 101,
   "id": "d1accb7c-0d09-4ab9-bfc3-dc2336c7b8ed",
   "metadata": {},
   "outputs": [],
   "source": [
    "# 공격형\n",
    "symbols = ['OILK', 'BBCA', 'BBEU', 'BBJP', 'ARKK']\n",
    "tickers=['OILK', 'BBCA', 'BBEU', 'BBJP', 'ARKK']\n",
    "names=['OILK', 'BBCA', 'BBEU', 'BBJP', 'ARKK']\n",
    "caps = [74258623, 5659077206, 8671311087, 8764382985, 22393215000]"
   ]
  },
  {
   "cell_type": "code",
   "execution_count": 37,
   "id": "1a1a5a8e-4ed5-423b-85c2-a8595c054c05",
   "metadata": {},
   "outputs": [],
   "source": [
    "# 221\n",
    "symbols = ['OILK', 'BBCA', 'SPHB', 'JAGG', 'ARKK']\n",
    "tickers=['OILK', 'BBCA', 'SPHB', 'JAGG', 'ARKK']\n",
    "names=['OILK', 'BBCA', 'SPHB', 'JAGG', 'ARKK']\n",
    "caps = [74258623, 5659077206, 889317500 ,1124737008,  22393215000]"
   ]
  },
  {
   "cell_type": "code",
   "execution_count": 51,
   "id": "b4b5316d-fe43-4298-b702-ed951dec813d",
   "metadata": {},
   "outputs": [],
   "source": [
    "# 131\n",
    "symbols = ['OILK', 'SPHB', 'JAGG', 'BBJP', 'ARKK']\n",
    "tickers=['OILK', 'SPHB', 'JAGG', 'BBJP', 'ARKK']\n",
    "names=['OILK', 'SPHB', 'JAGG', 'BBJP', 'ARKK']\n",
    "caps = [74258623, 889317500 ,1124737008, 8764382985, 22393215000]"
   ]
  },
  {
   "cell_type": "code",
   "execution_count": 61,
   "id": "e63cc80e-0068-4eff-8211-568e14ccabd4",
   "metadata": {},
   "outputs": [],
   "source": [
    "# 122\n",
    "symbols = ['OILK', 'SPHB', 'BBJP', 'ARKK', 'PALL']\n",
    "tickers=['OILK', 'SPHB', 'BBJP', 'ARKK', 'PALL']\n",
    "names=['OILK', 'SPHB', 'BBJP', 'ARKK', 'PALL']\n",
    "caps = [74258623, 889317500 , 8764382985, 22393215000, 528330000]"
   ]
  },
  {
   "cell_type": "code",
   "execution_count": 71,
   "id": "4fa7fa57-2b76-4548-a8b1-137d322ec088",
   "metadata": {},
   "outputs": [],
   "source": [
    "# 113\n",
    "symbols = ['OILK', 'BBJP', 'ARKK', 'PALL', 'QQQ']\n",
    "tickers=['OILK', 'BBJP', 'ARKK', 'PALL', 'QQQ']\n",
    "names=['OILK', 'BBJP', 'ARKK', 'PALL', 'QQQ']\n",
    "caps = [74258623, 8764382985, 22393215000, 528330000,1.43E+11]"
   ]
  },
  {
   "cell_type": "code",
   "execution_count": 106,
   "id": "d9b2008e-3869-4436-9d85-fd9c32e20236",
   "metadata": {},
   "outputs": [],
   "source": [
    "prices = []\n",
    "for s in symbols:\n",
    "    prices_out = df[df['ticker']==s]['close'][-650:].tolist()\n",
    "    prices.append(prices_out)"
   ]
  },
  {
   "cell_type": "code",
   "execution_count": 107,
   "id": "4878622d-0795-447a-8b14-d9399617aa5f",
   "metadata": {},
   "outputs": [],
   "source": [
    "# prices = []\n",
    "# for s in symbols:\n",
    "#   prices_out = close[close['ticker']==s]['close'][-800:].tolist()\n",
    "#   prices.append(prices_out)"
   ]
  },
  {
   "cell_type": "code",
   "execution_count": 108,
   "id": "0378799e-0ba8-4233-90f2-af0e498893eb",
   "metadata": {},
   "outputs": [],
   "source": [
    "cap = {}"
   ]
  },
  {
   "cell_type": "code",
   "execution_count": 109,
   "id": "802f4ab6-dd9f-4b84-b71f-551d77550f5c",
   "metadata": {},
   "outputs": [],
   "source": [
    "n = len(tickers)\n",
    "W = np.array(caps) / sum(caps) # 시가총액의 비율계산\n",
    "prices = np.matrix(prices)  # prices를 numpy matrix로 변환\n",
    "\n",
    "# 수익률 행렬을 만들어 계산\n",
    "rows, cols = prices.shape\n",
    "returns = np.empty([rows, cols - 1])\n",
    "for r in range(rows):\n",
    "    for c in range(cols - 1):\n",
    "        p0, p1 = prices[r, c], prices[r, c + 1]\n",
    "        returns[r, c] = (p1 / p0) - 1\n",
    "\n",
    "# 수익률계산\n",
    "expreturns = np.array([])\n",
    "for r in range(rows):\n",
    "    expreturns = np.append(expreturns, np.mean(returns[r]))\n",
    "\n",
    "# 공분산계산\n",
    "covars = np.cov(returns)\n",
    "R = (1 + expreturns) ** 250 - 1  # 연율화\n",
    "C = covars * 250  # 연율화\n",
    "\n",
    "# 무위험 이자율\n",
    "rf = .015"
   ]
  },
  {
   "cell_type": "code",
   "execution_count": 110,
   "id": "95411613-4506-479b-9563-77788497c554",
   "metadata": {},
   "outputs": [
    {
     "data": {
      "text/html": [
       "<div>\n",
       "<style scoped>\n",
       "    .dataframe tbody tr th:only-of-type {\n",
       "        vertical-align: middle;\n",
       "    }\n",
       "\n",
       "    .dataframe tbody tr th {\n",
       "        vertical-align: top;\n",
       "    }\n",
       "\n",
       "    .dataframe thead th {\n",
       "        text-align: right;\n",
       "    }\n",
       "</style>\n",
       "<table border=\"1\" class=\"dataframe\">\n",
       "  <thead>\n",
       "    <tr style=\"text-align: right;\">\n",
       "      <th></th>\n",
       "      <th>OILK</th>\n",
       "      <th>BBCA</th>\n",
       "      <th>BBEU</th>\n",
       "      <th>BBJP</th>\n",
       "      <th>ARKK</th>\n",
       "    </tr>\n",
       "  </thead>\n",
       "  <tbody>\n",
       "    <tr>\n",
       "      <th>Return</th>\n",
       "      <td>-0.047621</td>\n",
       "      <td>0.761607</td>\n",
       "      <td>0.689426</td>\n",
       "      <td>0.647229</td>\n",
       "      <td>0.611383</td>\n",
       "    </tr>\n",
       "    <tr>\n",
       "      <th>Weight (based on market cap)</th>\n",
       "      <td>0.001630</td>\n",
       "      <td>0.124205</td>\n",
       "      <td>0.190318</td>\n",
       "      <td>0.192361</td>\n",
       "      <td>0.491486</td>\n",
       "    </tr>\n",
       "  </tbody>\n",
       "</table>\n",
       "</div>"
      ],
      "text/plain": [
       "                                  OILK      BBCA      BBEU      BBJP      ARKK\n",
       "Return                       -0.047621  0.761607  0.689426  0.647229  0.611383\n",
       "Weight (based on market cap)  0.001630  0.124205  0.190318  0.192361  0.491486"
      ]
     },
     "metadata": {},
     "output_type": "display_data"
    }
   ],
   "source": [
    "display(pd.DataFrame({'Return': R, 'Weight (based on market cap)': W}, index=names).T)"
   ]
  },
  {
   "cell_type": "code",
   "execution_count": 111,
   "id": "b30bfd45-e165-4e0a-ab37-0ac65795d58b",
   "metadata": {},
   "outputs": [
    {
     "data": {
      "text/html": [
       "<div>\n",
       "<style scoped>\n",
       "    .dataframe tbody tr th:only-of-type {\n",
       "        vertical-align: middle;\n",
       "    }\n",
       "\n",
       "    .dataframe tbody tr th {\n",
       "        vertical-align: top;\n",
       "    }\n",
       "\n",
       "    .dataframe thead th {\n",
       "        text-align: right;\n",
       "    }\n",
       "</style>\n",
       "<table border=\"1\" class=\"dataframe\">\n",
       "  <thead>\n",
       "    <tr style=\"text-align: right;\">\n",
       "      <th></th>\n",
       "      <th>OILK</th>\n",
       "      <th>BBCA</th>\n",
       "      <th>BBEU</th>\n",
       "      <th>BBJP</th>\n",
       "      <th>ARKK</th>\n",
       "    </tr>\n",
       "  </thead>\n",
       "  <tbody>\n",
       "    <tr>\n",
       "      <th>OILK</th>\n",
       "      <td>0.247232</td>\n",
       "      <td>0.060715</td>\n",
       "      <td>0.045423</td>\n",
       "      <td>0.026035</td>\n",
       "      <td>0.056548</td>\n",
       "    </tr>\n",
       "    <tr>\n",
       "      <th>BBCA</th>\n",
       "      <td>0.060715</td>\n",
       "      <td>0.450491</td>\n",
       "      <td>0.432622</td>\n",
       "      <td>0.416618</td>\n",
       "      <td>0.064745</td>\n",
       "    </tr>\n",
       "    <tr>\n",
       "      <th>BBEU</th>\n",
       "      <td>0.045423</td>\n",
       "      <td>0.432622</td>\n",
       "      <td>0.428828</td>\n",
       "      <td>0.412708</td>\n",
       "      <td>0.056619</td>\n",
       "    </tr>\n",
       "    <tr>\n",
       "      <th>BBJP</th>\n",
       "      <td>0.026035</td>\n",
       "      <td>0.416618</td>\n",
       "      <td>0.412708</td>\n",
       "      <td>0.411244</td>\n",
       "      <td>0.042594</td>\n",
       "    </tr>\n",
       "    <tr>\n",
       "      <th>ARKK</th>\n",
       "      <td>0.056548</td>\n",
       "      <td>0.064745</td>\n",
       "      <td>0.056619</td>\n",
       "      <td>0.042594</td>\n",
       "      <td>0.163489</td>\n",
       "    </tr>\n",
       "  </tbody>\n",
       "</table>\n",
       "</div>"
      ],
      "text/plain": [
       "          OILK      BBCA      BBEU      BBJP      ARKK\n",
       "OILK  0.247232  0.060715  0.045423  0.026035  0.056548\n",
       "BBCA  0.060715  0.450491  0.432622  0.416618  0.064745\n",
       "BBEU  0.045423  0.432622  0.428828  0.412708  0.056619\n",
       "BBJP  0.026035  0.416618  0.412708  0.411244  0.042594\n",
       "ARKK  0.056548  0.064745  0.056619  0.042594  0.163489"
      ]
     },
     "metadata": {},
     "output_type": "display_data"
    }
   ],
   "source": [
    "display(pd.DataFrame(C, columns=names, index=names))"
   ]
  },
  {
   "cell_type": "code",
   "execution_count": 112,
   "id": "c4a17022-e8da-4415-ba13-f03def01e3c7",
   "metadata": {},
   "outputs": [
    {
     "data": {
      "image/png": "[encoded data removed]",
      "text/plain": [
       "<Figure size 720x648 with 1 Axes>"
      ]
     },
     "metadata": {
      "needs_background": "light"
     },
     "output_type": "display_data"
    },
    {
     "data": {
      "text/html": [
       "<div>\n",
       "<style scoped>\n",
       "    .dataframe tbody tr th:only-of-type {\n",
       "        vertical-align: middle;\n",
       "    }\n",
       "\n",
       "    .dataframe tbody tr th {\n",
       "        vertical-align: top;\n",
       "    }\n",
       "\n",
       "    .dataframe thead th {\n",
       "        text-align: right;\n",
       "    }\n",
       "</style>\n",
       "<table border=\"1\" class=\"dataframe\">\n",
       "  <thead>\n",
       "    <tr style=\"text-align: right;\">\n",
       "      <th></th>\n",
       "      <th>OILK</th>\n",
       "      <th>BBCA</th>\n",
       "      <th>BBEU</th>\n",
       "      <th>BBJP</th>\n",
       "      <th>ARKK</th>\n",
       "    </tr>\n",
       "  </thead>\n",
       "  <tbody>\n",
       "    <tr>\n",
       "      <th>Weight</th>\n",
       "      <td>2.041606e-17</td>\n",
       "      <td>0.274701</td>\n",
       "      <td>1.602481e-18</td>\n",
       "      <td>6.392775e-19</td>\n",
       "      <td>0.725299</td>\n",
       "    </tr>\n",
       "  </tbody>\n",
       "</table>\n",
       "</div>"
      ],
      "text/plain": [
       "                OILK      BBCA          BBEU          BBJP      ARKK\n",
       "Weight  2.041606e-17  0.274701  1.602481e-18  6.392775e-19  0.725299"
      ]
     },
     "metadata": {},
     "output_type": "display_data"
    }
   ],
   "source": [
    "res1 = optimize_frontier(R, C, rf)\n",
    "\n",
    "display_assets(names, R, C, color='blue')\n",
    "display_frontier(res1, color='blue')\n",
    "plt.xlabel('variance $\\sigma$'), plt.ylabel('mean $\\mu$'), plt.show()\n",
    "display(pd.DataFrame({'Weight': res1.W}, index=names).T)"
   ]
  },
  {
   "cell_type": "code",
   "execution_count": 113,
   "id": "7a97fa99-e451-4d02-9141-2271edcd9244",
   "metadata": {},
   "outputs": [],
   "source": [
    "# Calculate portfolio historical return and variance\n",
    "mean, var = get_mean_var(W, R, C)\n",
    "\n",
    "lmb = (mean - rf) / var  # Calculate risk aversion\n",
    "Pi = np.dot(np.dot(lmb, C), W)  # Calculate equilibrium excess returns"
   ]
  },
  {
   "cell_type": "code",
   "execution_count": 114,
   "id": "10832e8e-dac5-45f6-af5d-d998726fab79",
   "metadata": {},
   "outputs": [
    {
     "data": {
      "image/png": "[encoded data removed]",
      "text/plain": [
       "<Figure size 720x648 with 1 Axes>"
      ]
     },
     "metadata": {
      "needs_background": "light"
     },
     "output_type": "display_data"
    },
    {
     "data": {
      "text/html": [
       "<div>\n",
       "<style scoped>\n",
       "    .dataframe tbody tr th:only-of-type {\n",
       "        vertical-align: middle;\n",
       "    }\n",
       "\n",
       "    .dataframe tbody tr th {\n",
       "        vertical-align: top;\n",
       "    }\n",
       "\n",
       "    .dataframe thead th {\n",
       "        text-align: right;\n",
       "    }\n",
       "</style>\n",
       "<table border=\"1\" class=\"dataframe\">\n",
       "  <thead>\n",
       "    <tr style=\"text-align: right;\">\n",
       "      <th></th>\n",
       "      <th>OILK</th>\n",
       "      <th>BBCA</th>\n",
       "      <th>BBEU</th>\n",
       "      <th>BBJP</th>\n",
       "      <th>ARKK</th>\n",
       "    </tr>\n",
       "  </thead>\n",
       "  <tbody>\n",
       "    <tr>\n",
       "      <th>Weight</th>\n",
       "      <td>0.001369</td>\n",
       "      <td>0.127038</td>\n",
       "      <td>0.181177</td>\n",
       "      <td>0.198093</td>\n",
       "      <td>0.492323</td>\n",
       "    </tr>\n",
       "  </tbody>\n",
       "</table>\n",
       "</div>"
      ],
      "text/plain": [
       "            OILK      BBCA      BBEU      BBJP      ARKK\n",
       "Weight  0.001369  0.127038  0.181177  0.198093  0.492323"
      ]
     },
     "metadata": {},
     "output_type": "display_data"
    }
   ],
   "source": [
    "res2 = optimize_frontier(Pi+rf, C, rf)\n",
    "\n",
    "display_assets(names, R, C, color='red')\n",
    "display_frontier(res1, label='Historical returns', color='red')\n",
    "display_assets(names, Pi+rf, C, color='green')\n",
    "display_frontier(res2, label='Implied returns', color='green')\n",
    "plt.xlabel('variance $\\sigma$'), plt.ylabel('mean $\\mu$'), plt.legend(), plt.show()\n",
    "display(pd.DataFrame({'Weight': res2.W}, index=names).T)"
   ]
  },
  {
   "cell_type": "code",
   "execution_count": 115,
   "id": "3bb1eb43-4730-4829-8be3-28c06df1ee06",
   "metadata": {},
   "outputs": [
    {
     "ename": "KeyError",
     "evalue": "'PALL'",
     "output_type": "error",
     "traceback": [
      "\u001b[1;31m---------------------------------------------------------------------------\u001b[0m",
      "\u001b[1;31mKeyError\u001b[0m                                  Traceback (most recent call last)",
      "\u001b[1;32m<ipython-input-115-cffcb7b8eebe>\u001b[0m in \u001b[0;36m<module>\u001b[1;34m\u001b[0m\n\u001b[0;32m     15\u001b[0m          ('BBJP', '<', 'OILK', 0.02)]\n\u001b[0;32m     16\u001b[0m \u001b[1;33m\u001b[0m\u001b[0m\n\u001b[1;32m---> 17\u001b[1;33m \u001b[0mQ\u001b[0m\u001b[1;33m,\u001b[0m \u001b[0mP\u001b[0m \u001b[1;33m=\u001b[0m \u001b[0mcreate_views_and_link_matrix\u001b[0m\u001b[1;33m(\u001b[0m\u001b[0mnames\u001b[0m\u001b[1;33m,\u001b[0m \u001b[0mviews\u001b[0m\u001b[1;33m)\u001b[0m\u001b[1;33m\u001b[0m\u001b[1;33m\u001b[0m\u001b[0m\n\u001b[0m\u001b[0;32m     18\u001b[0m \u001b[0mprint\u001b[0m\u001b[1;33m(\u001b[0m\u001b[1;34m'Views Matrix'\u001b[0m\u001b[1;33m)\u001b[0m\u001b[1;33m\u001b[0m\u001b[1;33m\u001b[0m\u001b[0m\n\u001b[0;32m     19\u001b[0m \u001b[0mdisplay\u001b[0m\u001b[1;33m(\u001b[0m\u001b[0mpd\u001b[0m\u001b[1;33m.\u001b[0m\u001b[0mDataFrame\u001b[0m\u001b[1;33m(\u001b[0m\u001b[1;33m{\u001b[0m\u001b[1;34m'Views'\u001b[0m\u001b[1;33m:\u001b[0m\u001b[0mQ\u001b[0m\u001b[1;33m}\u001b[0m\u001b[1;33m)\u001b[0m\u001b[1;33m)\u001b[0m\u001b[1;33m\u001b[0m\u001b[1;33m\u001b[0m\u001b[0m\n",
      "\u001b[1;32m<ipython-input-115-cffcb7b8eebe>\u001b[0m in \u001b[0;36mcreate_views_and_link_matrix\u001b[1;34m(names, views)\u001b[0m\n\u001b[0;32m      8\u001b[0m     \u001b[1;32mfor\u001b[0m \u001b[0mi\u001b[0m\u001b[1;33m,\u001b[0m \u001b[0mv\u001b[0m \u001b[1;32min\u001b[0m \u001b[0menumerate\u001b[0m\u001b[1;33m(\u001b[0m\u001b[0mviews\u001b[0m\u001b[1;33m)\u001b[0m\u001b[1;33m:\u001b[0m\u001b[1;33m\u001b[0m\u001b[1;33m\u001b[0m\u001b[0m\n\u001b[0;32m      9\u001b[0m         \u001b[0mname1\u001b[0m\u001b[1;33m,\u001b[0m \u001b[0mname2\u001b[0m \u001b[1;33m=\u001b[0m \u001b[0mviews\u001b[0m\u001b[1;33m[\u001b[0m\u001b[0mi\u001b[0m\u001b[1;33m]\u001b[0m\u001b[1;33m[\u001b[0m\u001b[1;36m0\u001b[0m\u001b[1;33m]\u001b[0m\u001b[1;33m,\u001b[0m \u001b[0mviews\u001b[0m\u001b[1;33m[\u001b[0m\u001b[0mi\u001b[0m\u001b[1;33m]\u001b[0m\u001b[1;33m[\u001b[0m\u001b[1;36m2\u001b[0m\u001b[1;33m]\u001b[0m\u001b[1;33m\u001b[0m\u001b[1;33m\u001b[0m\u001b[0m\n\u001b[1;32m---> 10\u001b[1;33m         \u001b[0mP\u001b[0m\u001b[1;33m[\u001b[0m\u001b[0mi\u001b[0m\u001b[1;33m,\u001b[0m \u001b[0mnameToIndex\u001b[0m\u001b[1;33m[\u001b[0m\u001b[0mname1\u001b[0m\u001b[1;33m]\u001b[0m\u001b[1;33m]\u001b[0m \u001b[1;33m=\u001b[0m \u001b[1;33m+\u001b[0m\u001b[1;36m1\u001b[0m \u001b[1;32mif\u001b[0m \u001b[0mviews\u001b[0m\u001b[1;33m[\u001b[0m\u001b[0mi\u001b[0m\u001b[1;33m]\u001b[0m\u001b[1;33m[\u001b[0m\u001b[1;36m1\u001b[0m\u001b[1;33m]\u001b[0m \u001b[1;33m==\u001b[0m \u001b[1;34m'>'\u001b[0m \u001b[1;32melse\u001b[0m \u001b[1;33m-\u001b[0m\u001b[1;36m1\u001b[0m\u001b[1;33m\u001b[0m\u001b[1;33m\u001b[0m\u001b[0m\n\u001b[0m\u001b[0;32m     11\u001b[0m         \u001b[0mP\u001b[0m\u001b[1;33m[\u001b[0m\u001b[0mi\u001b[0m\u001b[1;33m,\u001b[0m \u001b[0mnameToIndex\u001b[0m\u001b[1;33m[\u001b[0m\u001b[0mname2\u001b[0m\u001b[1;33m]\u001b[0m\u001b[1;33m]\u001b[0m \u001b[1;33m=\u001b[0m \u001b[1;33m-\u001b[0m\u001b[1;36m1\u001b[0m \u001b[1;32mif\u001b[0m \u001b[0mviews\u001b[0m\u001b[1;33m[\u001b[0m\u001b[0mi\u001b[0m\u001b[1;33m]\u001b[0m\u001b[1;33m[\u001b[0m\u001b[1;36m1\u001b[0m\u001b[1;33m]\u001b[0m \u001b[1;33m==\u001b[0m \u001b[1;34m'>'\u001b[0m \u001b[1;32melse\u001b[0m \u001b[1;33m+\u001b[0m\u001b[1;36m1\u001b[0m\u001b[1;33m\u001b[0m\u001b[1;33m\u001b[0m\u001b[0m\n\u001b[0;32m     12\u001b[0m     \u001b[1;32mreturn\u001b[0m \u001b[0mnp\u001b[0m\u001b[1;33m.\u001b[0m\u001b[0marray\u001b[0m\u001b[1;33m(\u001b[0m\u001b[0mQ\u001b[0m\u001b[1;33m)\u001b[0m\u001b[1;33m,\u001b[0m \u001b[0mP\u001b[0m\u001b[1;33m\u001b[0m\u001b[1;33m\u001b[0m\u001b[0m\n",
      "\u001b[1;31mKeyError\u001b[0m: 'PALL'"
     ]
    }
   ],
   "source": [
    "def create_views_and_link_matrix(names, views):\n",
    "    r, c = len(views), len(names)\n",
    "    Q = [views[i][3] for i in range(r)]  # view matrix\n",
    "    P = np.zeros([r, c])\n",
    "    nameToIndex = dict()\n",
    "    for i, n in enumerate(names):\n",
    "        nameToIndex[n] = i\n",
    "    for i, v in enumerate(views):\n",
    "        name1, name2 = views[i][0], views[i][2]\n",
    "        P[i, nameToIndex[name1]] = +1 if views[i][1] == '>' else -1\n",
    "        P[i, nameToIndex[name2]] = -1 if views[i][1] == '>' else +1\n",
    "    return np.array(Q), P\n",
    "\n",
    "views = [('PALL', '>', 'QQQ', 0.02),\n",
    "         ('BBJP', '<', 'OILK', 0.02)]\n",
    "\n",
    "Q, P = create_views_and_link_matrix(names, views)\n",
    "print('Views Matrix')\n",
    "display(pd.DataFrame({'Views':Q}))\n",
    "print('Link Matrix')\n",
    "display(pd.DataFrame(P))"
   ]
  },
  {
   "cell_type": "code",
   "execution_count": 86,
   "id": "b4d6ebd2-f3a9-49bc-8aaf-9d5cfbbb080a",
   "metadata": {},
   "outputs": [
    {
     "data": {
      "image/png": "[encoded data removed]",
      "text/plain": [
       "<Figure size 720x648 with 1 Axes>"
      ]
     },
     "metadata": {
      "needs_background": "light"
     },
     "output_type": "display_data"
    },
    {
     "data": {
      "text/html": [
       "<div>\n",
       "<style scoped>\n",
       "    .dataframe tbody tr th:only-of-type {\n",
       "        vertical-align: middle;\n",
       "    }\n",
       "\n",
       "    .dataframe tbody tr th {\n",
       "        vertical-align: top;\n",
       "    }\n",
       "\n",
       "    .dataframe thead th {\n",
       "        text-align: right;\n",
       "    }\n",
       "</style>\n",
       "<table border=\"1\" class=\"dataframe\">\n",
       "  <thead>\n",
       "    <tr style=\"text-align: right;\">\n",
       "      <th></th>\n",
       "      <th>OILK</th>\n",
       "      <th>BBJP</th>\n",
       "      <th>ARKK</th>\n",
       "      <th>PALL</th>\n",
       "      <th>QQQ</th>\n",
       "    </tr>\n",
       "  </thead>\n",
       "  <tbody>\n",
       "    <tr>\n",
       "      <th>Weight</th>\n",
       "      <td>0.000472</td>\n",
       "      <td>0.050297</td>\n",
       "      <td>0.127942</td>\n",
       "      <td>0.003093</td>\n",
       "      <td>0.818197</td>\n",
       "    </tr>\n",
       "  </tbody>\n",
       "</table>\n",
       "</div>"
      ],
      "text/plain": [
       "            OILK      BBJP      ARKK      PALL       QQQ\n",
       "Weight  0.000472  0.050297  0.127942  0.003093  0.818197"
      ]
     },
     "metadata": {},
     "output_type": "display_data"
    }
   ],
   "source": [
    "tau = .025  # scaling factor\n",
    "\n",
    "# Calculate omega - uncertainty matrix about views\n",
    "omega = np.dot(np.dot(np.dot(tau, P), C), np.transpose(P))  # 0.025 * P * C * transpose(P)\n",
    "# Calculate equilibrium excess returns with views incorporated\n",
    "sub_a = inv(np.dot(tau, C))\n",
    "sub_b = np.dot(np.dot(np.transpose(P), inv(omega)), P)\n",
    "sub_c = np.dot(inv(np.dot(tau, C)), Pi)\n",
    "sub_d = np.dot(np.dot(np.transpose(P), inv(omega)), Q)\n",
    "Pi_adj = np.dot(inv(sub_a + sub_b), (sub_c + sub_d))\n",
    "\n",
    "res3 = optimize_frontier(Pi + rf, C, rf)\n",
    "\n",
    "display_assets(names, Pi+rf, C, color='green')\n",
    "display_frontier(res2, label='Implied returns', color='green')\n",
    "display_assets(names, Pi_adj+rf, C, color='blue')\n",
    "display_frontier(res3, label='Implied returns (adjusted views)', color='blue')\n",
    "plt.xlabel('variance $\\sigma$'), plt.ylabel('mean $\\mu$'), plt.legend(), plt.show()\n",
    "display(pd.DataFrame({'Weight': res2.W}, index=names).T)"
   ]
  },
  {
   "cell_type": "code",
   "execution_count": null,
   "id": "d105ed95-a954-4f34-bbdf-ebf6838a7099",
   "metadata": {},
   "outputs": [],
   "source": []
  }
 ],
 "metadata": {
  "kernelspec": {
   "display_name": "Python 3",
   "language": "python",
   "name": "python3"
  },
  "language_info": {
   "codemirror_mode": {
    "name": "ipython",
    "version": 3
   },
   "file_extension": ".py",
   "mimetype": "text/x-python",
   "name": "python",
   "nbconvert_exporter": "python",
   "pygments_lexer": "ipython3",
   "version": "3.7.7"
  }
 },
 "nbformat": 4,
 "nbformat_minor": 5
}
